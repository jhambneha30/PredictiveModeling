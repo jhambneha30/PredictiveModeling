{
 "cells": [
  {
   "cell_type": "code",
   "execution_count": null,
   "id": "56fb1cbc",
   "metadata": {},
   "outputs": [],
   "source": [
    "import pandas as pd\n",
    "import numpy as np\n",
    "import random as rd\n",
    "from sklearn.decomposition import PCA\n",
    "from sklearn import preprocessing\n",
    "import matplotlib.pyplot as plt"
   ]
  },
  {
   "cell_type": "code",
   "execution_count": null,
   "id": "1254195f",
   "metadata": {},
   "outputs": [],
   "source": [
    "## Create 100 gene names and store in genes\n",
    "genes = ['gene' + str(i) for i in range(1,101)]"
   ]
  },
  {
   "cell_type": "code",
   "execution_count": null,
   "id": "fb73591c",
   "metadata": {},
   "outputs": [],
   "source": [
    "genes"
   ]
  },
  {
   "cell_type": "code",
   "execution_count": null,
   "id": "880b64ca",
   "metadata": {},
   "outputs": [],
   "source": [
    "wt = ['wt' + str(j) for j in range(1,6)]\n",
    "ko = ['ko' + str(k) for k in range(1,6)]"
   ]
  },
  {
   "cell_type": "code",
   "execution_count": null,
   "id": "0dfce6f3",
   "metadata": {},
   "outputs": [],
   "source": [
    "print(wt)"
   ]
  },
  {
   "cell_type": "code",
   "execution_count": null,
   "id": "c61f41b0",
   "metadata": {},
   "outputs": [],
   "source": [
    "print(ko)"
   ]
  },
  {
   "cell_type": "code",
   "execution_count": null,
   "id": "ce53784b",
   "metadata": {},
   "outputs": [],
   "source": [
    "data = pd.DataFrame(columns = [*wt,*ko], index = genes)"
   ]
  },
  {
   "cell_type": "code",
   "execution_count": 29,
   "id": "1421d792",
   "metadata": {},
   "outputs": [],
   "source": [
    "## Filling dat using poisson distribution & generating random numbers with mean between 10 & 1000\n",
    "## Note that the genes stores in rows represent different dimensions while columns are different samples\n",
    "## PCA expects the samples in rows and independent features in columns, so we transpose the data before using it\n",
    "for gene in data.index:\n",
    "    data.loc[gene, 'wt1':'wt5'] = np.random.poisson(lam = rd.randrange(10,1000), size = 5)\n",
    "    data.loc[gene, 'ko1':'ko5'] = np.random.poisson(lam = rd.randrange(10,1000), size = 5)"
   ]
  },
  {
   "cell_type": "code",
   "execution_count": 30,
   "id": "5388ca55",
   "metadata": {},
   "outputs": [
    {
     "data": {
      "text/html": [
       "<div>\n",
       "<style scoped>\n",
       "    .dataframe tbody tr th:only-of-type {\n",
       "        vertical-align: middle;\n",
       "    }\n",
       "\n",
       "    .dataframe tbody tr th {\n",
       "        vertical-align: top;\n",
       "    }\n",
       "\n",
       "    .dataframe thead th {\n",
       "        text-align: right;\n",
       "    }\n",
       "</style>\n",
       "<table border=\"1\" class=\"dataframe\">\n",
       "  <thead>\n",
       "    <tr style=\"text-align: right;\">\n",
       "      <th></th>\n",
       "      <th>wt1</th>\n",
       "      <th>wt2</th>\n",
       "      <th>wt3</th>\n",
       "      <th>wt4</th>\n",
       "      <th>wt5</th>\n",
       "      <th>ko1</th>\n",
       "      <th>ko2</th>\n",
       "      <th>ko3</th>\n",
       "      <th>ko4</th>\n",
       "      <th>ko5</th>\n",
       "    </tr>\n",
       "  </thead>\n",
       "  <tbody>\n",
       "    <tr>\n",
       "      <th>gene1</th>\n",
       "      <td>594</td>\n",
       "      <td>643</td>\n",
       "      <td>650</td>\n",
       "      <td>610</td>\n",
       "      <td>632</td>\n",
       "      <td>457</td>\n",
       "      <td>438</td>\n",
       "      <td>490</td>\n",
       "      <td>488</td>\n",
       "      <td>480</td>\n",
       "    </tr>\n",
       "    <tr>\n",
       "      <th>gene2</th>\n",
       "      <td>704</td>\n",
       "      <td>735</td>\n",
       "      <td>696</td>\n",
       "      <td>735</td>\n",
       "      <td>736</td>\n",
       "      <td>734</td>\n",
       "      <td>728</td>\n",
       "      <td>731</td>\n",
       "      <td>747</td>\n",
       "      <td>725</td>\n",
       "    </tr>\n",
       "    <tr>\n",
       "      <th>gene3</th>\n",
       "      <td>768</td>\n",
       "      <td>820</td>\n",
       "      <td>764</td>\n",
       "      <td>811</td>\n",
       "      <td>770</td>\n",
       "      <td>145</td>\n",
       "      <td>130</td>\n",
       "      <td>118</td>\n",
       "      <td>138</td>\n",
       "      <td>147</td>\n",
       "    </tr>\n",
       "    <tr>\n",
       "      <th>gene4</th>\n",
       "      <td>676</td>\n",
       "      <td>694</td>\n",
       "      <td>708</td>\n",
       "      <td>691</td>\n",
       "      <td>662</td>\n",
       "      <td>315</td>\n",
       "      <td>291</td>\n",
       "      <td>308</td>\n",
       "      <td>313</td>\n",
       "      <td>308</td>\n",
       "    </tr>\n",
       "    <tr>\n",
       "      <th>gene5</th>\n",
       "      <td>911</td>\n",
       "      <td>930</td>\n",
       "      <td>900</td>\n",
       "      <td>881</td>\n",
       "      <td>883</td>\n",
       "      <td>713</td>\n",
       "      <td>754</td>\n",
       "      <td>688</td>\n",
       "      <td>717</td>\n",
       "      <td>704</td>\n",
       "    </tr>\n",
       "  </tbody>\n",
       "</table>\n",
       "</div>"
      ],
      "text/plain": [
       "       wt1  wt2  wt3  wt4  wt5  ko1  ko2  ko3  ko4  ko5\n",
       "gene1  594  643  650  610  632  457  438  490  488  480\n",
       "gene2  704  735  696  735  736  734  728  731  747  725\n",
       "gene3  768  820  764  811  770  145  130  118  138  147\n",
       "gene4  676  694  708  691  662  315  291  308  313  308\n",
       "gene5  911  930  900  881  883  713  754  688  717  704"
      ]
     },
     "execution_count": 30,
     "metadata": {},
     "output_type": "execute_result"
    }
   ],
   "source": [
    "data.head()"
   ]
  },
  {
   "cell_type": "code",
   "execution_count": 31,
   "id": "61551bef",
   "metadata": {},
   "outputs": [
    {
     "data": {
      "text/plain": [
       "(100, 10)"
      ]
     },
     "execution_count": 31,
     "metadata": {},
     "output_type": "execute_result"
    }
   ],
   "source": [
    "data.shape"
   ]
  },
  {
   "cell_type": "code",
   "execution_count": null,
   "id": "af06b00c",
   "metadata": {},
   "outputs": [],
   "source": [
    "## Center the data at 0 & Scale the data before running PCA\n",
    "## After centering, the mean of each gene will be 0 & after scaling the std deviation of each gene becomes 1\n",
    "scaled_data = preprocessing.scale(data.T)\n",
    "scaled_data"
   ]
  },
  {
   "cell_type": "code",
   "execution_count": 47,
   "id": "2aa4c60d",
   "metadata": {},
   "outputs": [],
   "source": [
    "## Another more populare way to scale data suing StandardScaler class\n",
    "scaler = preprocessing.StandardScaler()"
   ]
  },
  {
   "cell_type": "code",
   "execution_count": null,
   "id": "bdb13806",
   "metadata": {},
   "outputs": [],
   "source": [
    "scaled_data2 = scaler.fit_transform(X = data.T, y = None)\n",
    "scaled_data2"
   ]
  },
  {
   "cell_type": "code",
   "execution_count": 49,
   "id": "88686337",
   "metadata": {},
   "outputs": [],
   "source": [
    "## PCA\n",
    "pca = PCA()\n",
    "pca.fit(scaled_data)\n",
    "pca_data = pca.transform(scaled_data)"
   ]
  },
  {
   "cell_type": "code",
   "execution_count": 56,
   "id": "6563a445",
   "metadata": {},
   "outputs": [],
   "source": [
    "## Plotting the scree plots\n",
    "## Step 1: Calculate the % of variation that each PC accounts for\n",
    "per_var = np.round(pca.explained_variance_ratio_ * 100, decimals = 1)\n",
    "##Create labels for Scree plot\n",
    "labels = ['PC' + str(i) for i in range(1, len(per_var)+1)]"
   ]
  },
  {
   "cell_type": "code",
   "execution_count": 62,
   "id": "0d0fc457",
   "metadata": {},
   "outputs": [
    {
     "data": {
      "text/plain": [
       "array([[-9.59919058e+00,  8.24950463e-01, -2.00049928e-01,\n",
       "        -3.17432726e-01,  2.08123957e+00,  1.11576822e-01,\n",
       "         1.00851403e+00,  4.90094966e-01,  5.14068427e-01,\n",
       "         1.48012970e-15],\n",
       "       [-9.63797230e+00,  2.44752308e+00, -1.85172536e+00,\n",
       "         7.74325993e-02, -8.37171798e-01, -6.72315902e-01,\n",
       "         3.32360875e-02,  1.56361129e-02, -7.18838243e-01,\n",
       "         7.14879336e-16],\n",
       "       [-9.73725286e+00, -2.06258739e-01,  3.51880266e+00,\n",
       "         4.09912816e-01, -1.77071341e-01,  1.09843956e-01,\n",
       "         3.73966907e-02, -3.62330169e-02, -5.49775216e-01,\n",
       "         5.58868640e-15],\n",
       "       [-9.19791733e+00, -1.08678263e+00, -1.26304432e-01,\n",
       "        -5.35743074e-01, -1.21997822e-01, -1.45189652e+00,\n",
       "        -1.18062244e+00, -4.90689367e-01,  6.70112064e-01,\n",
       "         3.61339934e-15],\n",
       "       [-9.70612673e+00, -1.96252132e+00, -1.34593359e+00,\n",
       "         3.78006293e-01, -9.58254462e-01,  1.86495066e+00,\n",
       "         8.22829611e-02,  6.42633045e-03,  1.17664718e-01,\n",
       "         4.66083025e-15],\n",
       "       [ 9.65012403e+00, -2.28929497e-01, -5.10630139e-01,\n",
       "         2.77444548e+00,  9.56151968e-01, -2.15572569e-01,\n",
       "        -2.74361843e-01, -3.52613133e-01, -8.06773317e-02,\n",
       "        -2.05089620e-15],\n",
       "       [ 9.44876599e+00,  4.51374723e-01, -1.24001649e-01,\n",
       "        -1.70752583e+00,  1.05141389e+00,  9.61623919e-01,\n",
       "        -5.02908462e-01, -9.22911502e-01, -3.88038405e-01,\n",
       "        -4.79761491e-15],\n",
       "       [ 9.81137820e+00,  1.95029851e+00,  9.01333111e-01,\n",
       "         6.79020841e-02, -1.49723865e+00,  3.07067866e-01,\n",
       "         5.63051352e-01, -2.50042723e-01,  8.24934368e-01,\n",
       "         1.12092452e-15],\n",
       "       [ 9.47018052e+00, -2.21039840e+00, -3.72408090e-01,\n",
       "        -7.23286757e-01, -4.28954509e-01, -1.16398326e+00,\n",
       "         1.32935234e+00,  8.02938957e-02, -3.30312271e-01,\n",
       "        -5.00909234e-15],\n",
       "       [ 9.49801106e+00,  2.07438111e-02,  1.10917422e-01,\n",
       "        -4.23710892e-01, -6.81168444e-02,  1.48705034e-01,\n",
       "        -1.09594072e+00,  1.46003844e+00, -5.91381102e-02,\n",
       "        -4.25525852e-15]])"
      ]
     },
     "execution_count": 62,
     "metadata": {},
     "output_type": "execute_result"
    }
   ],
   "source": [
    "pca_data"
   ]
  },
  {
   "cell_type": "code",
   "execution_count": 63,
   "id": "469a0b76",
   "metadata": {},
   "outputs": [
    {
     "data": {
      "image/png": "[encoded data removed]",
      "text/plain": [
       "<Figure size 640x480 with 1 Axes>"
      ]
     },
     "metadata": {},
     "output_type": "display_data"
    }
   ],
   "source": [
    "## Plot the bar chart - Scree Plot\n",
    "plt.bar(x = range(1,len(per_var)+1), height = per_var, tick_label = labels)\n",
    "plt.xlabel('Principal Components')\n",
    "plt.ylabel('% of explained variance')\n",
    "plt.title('Scree plot')\n",
    "plt.show()"
   ]
  },
  {
   "cell_type": "code",
   "execution_count": 66,
   "id": "54f64eff",
   "metadata": {},
   "outputs": [
    {
     "data": {
      "text/html": [
       "<div>\n",
       "<style scoped>\n",
       "    .dataframe tbody tr th:only-of-type {\n",
       "        vertical-align: middle;\n",
       "    }\n",
       "\n",
       "    .dataframe tbody tr th {\n",
       "        vertical-align: top;\n",
       "    }\n",
       "\n",
       "    .dataframe thead th {\n",
       "        text-align: right;\n",
       "    }\n",
       "</style>\n",
       "<table border=\"1\" class=\"dataframe\">\n",
       "  <thead>\n",
       "    <tr style=\"text-align: right;\">\n",
       "      <th></th>\n",
       "      <th>PC1</th>\n",
       "      <th>PC2</th>\n",
       "      <th>PC3</th>\n",
       "      <th>PC4</th>\n",
       "      <th>PC5</th>\n",
       "      <th>PC6</th>\n",
       "      <th>PC7</th>\n",
       "      <th>PC8</th>\n",
       "      <th>PC9</th>\n",
       "      <th>PC10</th>\n",
       "    </tr>\n",
       "  </thead>\n",
       "  <tbody>\n",
       "    <tr>\n",
       "      <th>wt1</th>\n",
       "      <td>-9.599191</td>\n",
       "      <td>0.824950</td>\n",
       "      <td>-0.200050</td>\n",
       "      <td>-0.317433</td>\n",
       "      <td>2.081240</td>\n",
       "      <td>0.111577</td>\n",
       "      <td>1.008514</td>\n",
       "      <td>0.490095</td>\n",
       "      <td>0.514068</td>\n",
       "      <td>1.480130e-15</td>\n",
       "    </tr>\n",
       "    <tr>\n",
       "      <th>wt2</th>\n",
       "      <td>-9.637972</td>\n",
       "      <td>2.447523</td>\n",
       "      <td>-1.851725</td>\n",
       "      <td>0.077433</td>\n",
       "      <td>-0.837172</td>\n",
       "      <td>-0.672316</td>\n",
       "      <td>0.033236</td>\n",
       "      <td>0.015636</td>\n",
       "      <td>-0.718838</td>\n",
       "      <td>7.148793e-16</td>\n",
       "    </tr>\n",
       "    <tr>\n",
       "      <th>wt3</th>\n",
       "      <td>-9.737253</td>\n",
       "      <td>-0.206259</td>\n",
       "      <td>3.518803</td>\n",
       "      <td>0.409913</td>\n",
       "      <td>-0.177071</td>\n",
       "      <td>0.109844</td>\n",
       "      <td>0.037397</td>\n",
       "      <td>-0.036233</td>\n",
       "      <td>-0.549775</td>\n",
       "      <td>5.588686e-15</td>\n",
       "    </tr>\n",
       "    <tr>\n",
       "      <th>wt4</th>\n",
       "      <td>-9.197917</td>\n",
       "      <td>-1.086783</td>\n",
       "      <td>-0.126304</td>\n",
       "      <td>-0.535743</td>\n",
       "      <td>-0.121998</td>\n",
       "      <td>-1.451897</td>\n",
       "      <td>-1.180622</td>\n",
       "      <td>-0.490689</td>\n",
       "      <td>0.670112</td>\n",
       "      <td>3.613399e-15</td>\n",
       "    </tr>\n",
       "    <tr>\n",
       "      <th>wt5</th>\n",
       "      <td>-9.706127</td>\n",
       "      <td>-1.962521</td>\n",
       "      <td>-1.345934</td>\n",
       "      <td>0.378006</td>\n",
       "      <td>-0.958254</td>\n",
       "      <td>1.864951</td>\n",
       "      <td>0.082283</td>\n",
       "      <td>0.006426</td>\n",
       "      <td>0.117665</td>\n",
       "      <td>4.660830e-15</td>\n",
       "    </tr>\n",
       "    <tr>\n",
       "      <th>ko1</th>\n",
       "      <td>9.650124</td>\n",
       "      <td>-0.228929</td>\n",
       "      <td>-0.510630</td>\n",
       "      <td>2.774445</td>\n",
       "      <td>0.956152</td>\n",
       "      <td>-0.215573</td>\n",
       "      <td>-0.274362</td>\n",
       "      <td>-0.352613</td>\n",
       "      <td>-0.080677</td>\n",
       "      <td>-2.050896e-15</td>\n",
       "    </tr>\n",
       "    <tr>\n",
       "      <th>ko2</th>\n",
       "      <td>9.448766</td>\n",
       "      <td>0.451375</td>\n",
       "      <td>-0.124002</td>\n",
       "      <td>-1.707526</td>\n",
       "      <td>1.051414</td>\n",
       "      <td>0.961624</td>\n",
       "      <td>-0.502908</td>\n",
       "      <td>-0.922912</td>\n",
       "      <td>-0.388038</td>\n",
       "      <td>-4.797615e-15</td>\n",
       "    </tr>\n",
       "    <tr>\n",
       "      <th>ko3</th>\n",
       "      <td>9.811378</td>\n",
       "      <td>1.950299</td>\n",
       "      <td>0.901333</td>\n",
       "      <td>0.067902</td>\n",
       "      <td>-1.497239</td>\n",
       "      <td>0.307068</td>\n",
       "      <td>0.563051</td>\n",
       "      <td>-0.250043</td>\n",
       "      <td>0.824934</td>\n",
       "      <td>1.120925e-15</td>\n",
       "    </tr>\n",
       "    <tr>\n",
       "      <th>ko4</th>\n",
       "      <td>9.470181</td>\n",
       "      <td>-2.210398</td>\n",
       "      <td>-0.372408</td>\n",
       "      <td>-0.723287</td>\n",
       "      <td>-0.428955</td>\n",
       "      <td>-1.163983</td>\n",
       "      <td>1.329352</td>\n",
       "      <td>0.080294</td>\n",
       "      <td>-0.330312</td>\n",
       "      <td>-5.009092e-15</td>\n",
       "    </tr>\n",
       "    <tr>\n",
       "      <th>ko5</th>\n",
       "      <td>9.498011</td>\n",
       "      <td>0.020744</td>\n",
       "      <td>0.110917</td>\n",
       "      <td>-0.423711</td>\n",
       "      <td>-0.068117</td>\n",
       "      <td>0.148705</td>\n",
       "      <td>-1.095941</td>\n",
       "      <td>1.460038</td>\n",
       "      <td>-0.059138</td>\n",
       "      <td>-4.255259e-15</td>\n",
       "    </tr>\n",
       "  </tbody>\n",
       "</table>\n",
       "</div>"
      ],
      "text/plain": [
       "          PC1       PC2       PC3       PC4       PC5       PC6       PC7  \\\n",
       "wt1 -9.599191  0.824950 -0.200050 -0.317433  2.081240  0.111577  1.008514   \n",
       "wt2 -9.637972  2.447523 -1.851725  0.077433 -0.837172 -0.672316  0.033236   \n",
       "wt3 -9.737253 -0.206259  3.518803  0.409913 -0.177071  0.109844  0.037397   \n",
       "wt4 -9.197917 -1.086783 -0.126304 -0.535743 -0.121998 -1.451897 -1.180622   \n",
       "wt5 -9.706127 -1.962521 -1.345934  0.378006 -0.958254  1.864951  0.082283   \n",
       "ko1  9.650124 -0.228929 -0.510630  2.774445  0.956152 -0.215573 -0.274362   \n",
       "ko2  9.448766  0.451375 -0.124002 -1.707526  1.051414  0.961624 -0.502908   \n",
       "ko3  9.811378  1.950299  0.901333  0.067902 -1.497239  0.307068  0.563051   \n",
       "ko4  9.470181 -2.210398 -0.372408 -0.723287 -0.428955 -1.163983  1.329352   \n",
       "ko5  9.498011  0.020744  0.110917 -0.423711 -0.068117  0.148705 -1.095941   \n",
       "\n",
       "          PC8       PC9          PC10  \n",
       "wt1  0.490095  0.514068  1.480130e-15  \n",
       "wt2  0.015636 -0.718838  7.148793e-16  \n",
       "wt3 -0.036233 -0.549775  5.588686e-15  \n",
       "wt4 -0.490689  0.670112  3.613399e-15  \n",
       "wt5  0.006426  0.117665  4.660830e-15  \n",
       "ko1 -0.352613 -0.080677 -2.050896e-15  \n",
       "ko2 -0.922912 -0.388038 -4.797615e-15  \n",
       "ko3 -0.250043  0.824934  1.120925e-15  \n",
       "ko4  0.080294 -0.330312 -5.009092e-15  \n",
       "ko5  1.460038 -0.059138 -4.255259e-15  "
      ]
     },
     "execution_count": 66,
     "metadata": {},
     "output_type": "execute_result"
    }
   ],
   "source": [
    "pca_df =pd.DataFrame(pca_data, index= [*wt,*ko], columns = labels)\n",
    "pca_df"
   ]
  },
  {
   "cell_type": "code",
   "execution_count": 70,
   "id": "25457a47",
   "metadata": {},
   "outputs": [
    {
     "data": {
      "image/png": "[encoded data removed]",
      "text/plain": [
       "<Figure size 640x480 with 1 Axes>"
      ]
     },
     "metadata": {},
     "output_type": "display_data"
    }
   ],
   "source": [
    "## Create a scatter plot using the first 2 principal components\n",
    "plt.scatter(pca_df.PC1, pca_df.PC2)\n",
    "plt.title('PCA graph')\n",
    "plt.xlabel('PC1')\n",
    "plt.xlabel('PC2')\n",
    "plt.show()"
   ]
  }
 ],
 "metadata": {
  "kernelspec": {
   "display_name": "Python 3 (ipykernel)",
   "language": "python",
   "name": "python3"
  },
  "language_info": {
   "codemirror_mode": {
    "name": "ipython",
    "version": 3
   },
   "file_extension": ".py",
   "mimetype": "text/x-python",
   "name": "python",
   "nbconvert_exporter": "python",
   "pygments_lexer": "ipython3",
   "version": "3.11.4"
  }
 },
 "nbformat": 4,
 "nbformat_minor": 5
}
